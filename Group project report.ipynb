{
 "cells": [
  {
   "cell_type": "code",
   "execution_count": 1,
   "id": "c1b72c4d-eb76-4d68-9afa-0e010512f0a3",
   "metadata": {},
   "outputs": [
    {
     "name": "stderr",
     "output_type": "stream",
     "text": [
      "── \u001b[1mAttaching packages\u001b[22m ─────────────────────────────────────── tidyverse 1.3.1 ──\n",
      "\n",
      "\u001b[32m✔\u001b[39m \u001b[34mggplot2\u001b[39m 3.3.6     \u001b[32m✔\u001b[39m \u001b[34mpurrr  \u001b[39m 0.3.4\n",
      "\u001b[32m✔\u001b[39m \u001b[34mtibble \u001b[39m 3.1.7     \u001b[32m✔\u001b[39m \u001b[34mdplyr  \u001b[39m 1.0.9\n",
      "\u001b[32m✔\u001b[39m \u001b[34mtidyr  \u001b[39m 1.2.0     \u001b[32m✔\u001b[39m \u001b[34mstringr\u001b[39m 1.4.0\n",
      "\u001b[32m✔\u001b[39m \u001b[34mreadr  \u001b[39m 2.1.2     \u001b[32m✔\u001b[39m \u001b[34mforcats\u001b[39m 0.5.1\n",
      "\n",
      "── \u001b[1mConflicts\u001b[22m ────────────────────────────────────────── tidyverse_conflicts() ──\n",
      "\u001b[31m✖\u001b[39m \u001b[34mdplyr\u001b[39m::\u001b[32mfilter()\u001b[39m masks \u001b[34mstats\u001b[39m::filter()\n",
      "\u001b[31m✖\u001b[39m \u001b[34mdplyr\u001b[39m::\u001b[32mlag()\u001b[39m    masks \u001b[34mstats\u001b[39m::lag()\n",
      "\n",
      "── \u001b[1mAttaching packages\u001b[22m ────────────────────────────────────── tidymodels 1.0.0 ──\n",
      "\n",
      "\u001b[32m✔\u001b[39m \u001b[34mbroom       \u001b[39m 1.0.0     \u001b[32m✔\u001b[39m \u001b[34mrsample     \u001b[39m 1.0.0\n",
      "\u001b[32m✔\u001b[39m \u001b[34mdials       \u001b[39m 1.0.0     \u001b[32m✔\u001b[39m \u001b[34mtune        \u001b[39m 1.0.0\n",
      "\u001b[32m✔\u001b[39m \u001b[34minfer       \u001b[39m 1.0.2     \u001b[32m✔\u001b[39m \u001b[34mworkflows   \u001b[39m 1.0.0\n",
      "\u001b[32m✔\u001b[39m \u001b[34mmodeldata   \u001b[39m 1.0.0     \u001b[32m✔\u001b[39m \u001b[34mworkflowsets\u001b[39m 1.0.0\n",
      "\u001b[32m✔\u001b[39m \u001b[34mparsnip     \u001b[39m 1.0.0     \u001b[32m✔\u001b[39m \u001b[34myardstick   \u001b[39m 1.0.0\n",
      "\u001b[32m✔\u001b[39m \u001b[34mrecipes     \u001b[39m 1.0.1     \n",
      "\n",
      "── \u001b[1mConflicts\u001b[22m ───────────────────────────────────────── tidymodels_conflicts() ──\n",
      "\u001b[31m✖\u001b[39m \u001b[34mscales\u001b[39m::\u001b[32mdiscard()\u001b[39m masks \u001b[34mpurrr\u001b[39m::discard()\n",
      "\u001b[31m✖\u001b[39m \u001b[34mdplyr\u001b[39m::\u001b[32mfilter()\u001b[39m   masks \u001b[34mstats\u001b[39m::filter()\n",
      "\u001b[31m✖\u001b[39m \u001b[34mrecipes\u001b[39m::\u001b[32mfixed()\u001b[39m  masks \u001b[34mstringr\u001b[39m::fixed()\n",
      "\u001b[31m✖\u001b[39m \u001b[34mdplyr\u001b[39m::\u001b[32mlag()\u001b[39m      masks \u001b[34mstats\u001b[39m::lag()\n",
      "\u001b[31m✖\u001b[39m \u001b[34myardstick\u001b[39m::\u001b[32mspec()\u001b[39m masks \u001b[34mreadr\u001b[39m::spec()\n",
      "\u001b[31m✖\u001b[39m \u001b[34mrecipes\u001b[39m::\u001b[32mstep()\u001b[39m   masks \u001b[34mstats\u001b[39m::step()\n",
      "\u001b[34m•\u001b[39m Search for functions across packages at \u001b[32mhttps://www.tidymodels.org/find/\u001b[39m\n",
      "\n"
     ]
    }
   ],
   "source": [
    "library(tidyverse)\n",
    "library(repr)\n",
    "library(tidymodels)\n",
    "library(RColorBrewer)"
   ]
  },
  {
   "cell_type": "code",
   "execution_count": 2,
   "id": "b0e47f28-8f13-459d-a8cf-b966fa43cb00",
   "metadata": {},
   "outputs": [
    {
     "name": "stderr",
     "output_type": "stream",
     "text": [
      "\u001b[1mRows: \u001b[22m\u001b[34m303\u001b[39m \u001b[1mColumns: \u001b[22m\u001b[34m14\u001b[39m\n",
      "\u001b[36m──\u001b[39m \u001b[1mColumn specification\u001b[22m \u001b[36m────────────────────────────────────────────────────────\u001b[39m\n",
      "\u001b[1mDelimiter:\u001b[22m \",\"\n",
      "\u001b[31mchr\u001b[39m  (2): ca, thal\n",
      "\u001b[32mdbl\u001b[39m (12): age, sex, cp, trestbps, chol, fbs, restecg, thalach, exang, oldpea...\n",
      "\n",
      "\u001b[36mℹ\u001b[39m Use `spec()` to retrieve the full column specification for this data.\n",
      "\u001b[36mℹ\u001b[39m Specify the column types or set `show_col_types = FALSE` to quiet this message.\n"
     ]
    },
    {
     "data": {
      "text/html": [
       "<table class=\"dataframe\">\n",
       "<caption>A tibble: 6 × 14</caption>\n",
       "<thead>\n",
       "\t<tr><th scope=col>age</th><th scope=col>sex</th><th scope=col>cp</th><th scope=col>trestbps</th><th scope=col>chol</th><th scope=col>fbs</th><th scope=col>restecg</th><th scope=col>thalach</th><th scope=col>exang</th><th scope=col>oldpeak</th><th scope=col>slope</th><th scope=col>ca</th><th scope=col>thal</th><th scope=col>predicted_attribute</th></tr>\n",
       "\t<tr><th scope=col>&lt;dbl&gt;</th><th scope=col>&lt;dbl&gt;</th><th scope=col>&lt;dbl&gt;</th><th scope=col>&lt;dbl&gt;</th><th scope=col>&lt;dbl&gt;</th><th scope=col>&lt;dbl&gt;</th><th scope=col>&lt;dbl&gt;</th><th scope=col>&lt;dbl&gt;</th><th scope=col>&lt;dbl&gt;</th><th scope=col>&lt;dbl&gt;</th><th scope=col>&lt;dbl&gt;</th><th scope=col>&lt;chr&gt;</th><th scope=col>&lt;chr&gt;</th><th scope=col>&lt;dbl&gt;</th></tr>\n",
       "</thead>\n",
       "<tbody>\n",
       "\t<tr><td>63</td><td>1</td><td>1</td><td>145</td><td>233</td><td>1</td><td>2</td><td>150</td><td>0</td><td>2.3</td><td>3</td><td>0.0</td><td>6.0</td><td>0</td></tr>\n",
       "\t<tr><td>67</td><td>1</td><td>4</td><td>160</td><td>286</td><td>0</td><td>2</td><td>108</td><td>1</td><td>1.5</td><td>2</td><td>3.0</td><td>3.0</td><td>2</td></tr>\n",
       "\t<tr><td>67</td><td>1</td><td>4</td><td>120</td><td>229</td><td>0</td><td>2</td><td>129</td><td>1</td><td>2.6</td><td>2</td><td>2.0</td><td>7.0</td><td>1</td></tr>\n",
       "\t<tr><td>37</td><td>1</td><td>3</td><td>130</td><td>250</td><td>0</td><td>0</td><td>187</td><td>0</td><td>3.5</td><td>3</td><td>0.0</td><td>3.0</td><td>0</td></tr>\n",
       "\t<tr><td>41</td><td>0</td><td>2</td><td>130</td><td>204</td><td>0</td><td>2</td><td>172</td><td>0</td><td>1.4</td><td>1</td><td>0.0</td><td>3.0</td><td>0</td></tr>\n",
       "\t<tr><td>56</td><td>1</td><td>2</td><td>120</td><td>236</td><td>0</td><td>0</td><td>178</td><td>0</td><td>0.8</td><td>1</td><td>0.0</td><td>3.0</td><td>0</td></tr>\n",
       "</tbody>\n",
       "</table>\n"
      ],
      "text/latex": [
       "A tibble: 6 × 14\n",
       "\\begin{tabular}{llllllllllllll}\n",
       " age & sex & cp & trestbps & chol & fbs & restecg & thalach & exang & oldpeak & slope & ca & thal & predicted\\_attribute\\\\\n",
       " <dbl> & <dbl> & <dbl> & <dbl> & <dbl> & <dbl> & <dbl> & <dbl> & <dbl> & <dbl> & <dbl> & <chr> & <chr> & <dbl>\\\\\n",
       "\\hline\n",
       "\t 63 & 1 & 1 & 145 & 233 & 1 & 2 & 150 & 0 & 2.3 & 3 & 0.0 & 6.0 & 0\\\\\n",
       "\t 67 & 1 & 4 & 160 & 286 & 0 & 2 & 108 & 1 & 1.5 & 2 & 3.0 & 3.0 & 2\\\\\n",
       "\t 67 & 1 & 4 & 120 & 229 & 0 & 2 & 129 & 1 & 2.6 & 2 & 2.0 & 7.0 & 1\\\\\n",
       "\t 37 & 1 & 3 & 130 & 250 & 0 & 0 & 187 & 0 & 3.5 & 3 & 0.0 & 3.0 & 0\\\\\n",
       "\t 41 & 0 & 2 & 130 & 204 & 0 & 2 & 172 & 0 & 1.4 & 1 & 0.0 & 3.0 & 0\\\\\n",
       "\t 56 & 1 & 2 & 120 & 236 & 0 & 0 & 178 & 0 & 0.8 & 1 & 0.0 & 3.0 & 0\\\\\n",
       "\\end{tabular}\n"
      ],
      "text/markdown": [
       "\n",
       "A tibble: 6 × 14\n",
       "\n",
       "| age &lt;dbl&gt; | sex &lt;dbl&gt; | cp &lt;dbl&gt; | trestbps &lt;dbl&gt; | chol &lt;dbl&gt; | fbs &lt;dbl&gt; | restecg &lt;dbl&gt; | thalach &lt;dbl&gt; | exang &lt;dbl&gt; | oldpeak &lt;dbl&gt; | slope &lt;dbl&gt; | ca &lt;chr&gt; | thal &lt;chr&gt; | predicted_attribute &lt;dbl&gt; |\n",
       "|---|---|---|---|---|---|---|---|---|---|---|---|---|---|\n",
       "| 63 | 1 | 1 | 145 | 233 | 1 | 2 | 150 | 0 | 2.3 | 3 | 0.0 | 6.0 | 0 |\n",
       "| 67 | 1 | 4 | 160 | 286 | 0 | 2 | 108 | 1 | 1.5 | 2 | 3.0 | 3.0 | 2 |\n",
       "| 67 | 1 | 4 | 120 | 229 | 0 | 2 | 129 | 1 | 2.6 | 2 | 2.0 | 7.0 | 1 |\n",
       "| 37 | 1 | 3 | 130 | 250 | 0 | 0 | 187 | 0 | 3.5 | 3 | 0.0 | 3.0 | 0 |\n",
       "| 41 | 0 | 2 | 130 | 204 | 0 | 2 | 172 | 0 | 1.4 | 1 | 0.0 | 3.0 | 0 |\n",
       "| 56 | 1 | 2 | 120 | 236 | 0 | 0 | 178 | 0 | 0.8 | 1 | 0.0 | 3.0 | 0 |\n",
       "\n"
      ],
      "text/plain": [
       "  age sex cp trestbps chol fbs restecg thalach exang oldpeak slope ca  thal\n",
       "1 63  1   1  145      233  1   2       150     0     2.3     3     0.0 6.0 \n",
       "2 67  1   4  160      286  0   2       108     1     1.5     2     3.0 3.0 \n",
       "3 67  1   4  120      229  0   2       129     1     2.6     2     2.0 7.0 \n",
       "4 37  1   3  130      250  0   0       187     0     3.5     3     0.0 3.0 \n",
       "5 41  0   2  130      204  0   2       172     0     1.4     1     0.0 3.0 \n",
       "6 56  1   2  120      236  0   0       178     0     0.8     1     0.0 3.0 \n",
       "  predicted_attribute\n",
       "1 0                  \n",
       "2 2                  \n",
       "3 1                  \n",
       "4 0                  \n",
       "5 0                  \n",
       "6 0                  "
      ]
     },
     "metadata": {},
     "output_type": "display_data"
    }
   ],
   "source": [
    "url <- \"https://archive.ics.uci.edu/ml/machine-learning-databases/heart-disease/processed.cleveland.data\"\n",
    "heart <- read_delim(url, delim = \",\", \n",
    "                    col_names=c(\"age\",\"sex\",\"cp\",\"trestbps\",\"chol\",\"fbs\",\"restecg\",\"thalach\",\"exang\",\"oldpeak\",\"slope\",\"ca\",\"thal\",\"predicted_attribute\"))\n",
    "head(heart)"
   ]
  },
  {
   "cell_type": "code",
   "execution_count": 3,
   "id": "1cfa44c4-54dc-4931-ba39-f8d45ad98593",
   "metadata": {},
   "outputs": [
    {
     "data": {
      "text/html": [
       "<table class=\"dataframe\">\n",
       "<caption>A tibble: 6 × 4</caption>\n",
       "<thead>\n",
       "\t<tr><th scope=col>age</th><th scope=col>blood_pressure</th><th scope=col>cholesterol</th><th scope=col>heart_diagnosis</th></tr>\n",
       "\t<tr><th scope=col>&lt;dbl&gt;</th><th scope=col>&lt;dbl&gt;</th><th scope=col>&lt;dbl&gt;</th><th scope=col>&lt;dbl&gt;</th></tr>\n",
       "</thead>\n",
       "<tbody>\n",
       "\t<tr><td>63</td><td>145</td><td>233</td><td>0</td></tr>\n",
       "\t<tr><td>67</td><td>160</td><td>286</td><td>2</td></tr>\n",
       "\t<tr><td>67</td><td>120</td><td>229</td><td>1</td></tr>\n",
       "\t<tr><td>37</td><td>130</td><td>250</td><td>0</td></tr>\n",
       "\t<tr><td>41</td><td>130</td><td>204</td><td>0</td></tr>\n",
       "\t<tr><td>56</td><td>120</td><td>236</td><td>0</td></tr>\n",
       "</tbody>\n",
       "</table>\n"
      ],
      "text/latex": [
       "A tibble: 6 × 4\n",
       "\\begin{tabular}{llll}\n",
       " age & blood\\_pressure & cholesterol & heart\\_diagnosis\\\\\n",
       " <dbl> & <dbl> & <dbl> & <dbl>\\\\\n",
       "\\hline\n",
       "\t 63 & 145 & 233 & 0\\\\\n",
       "\t 67 & 160 & 286 & 2\\\\\n",
       "\t 67 & 120 & 229 & 1\\\\\n",
       "\t 37 & 130 & 250 & 0\\\\\n",
       "\t 41 & 130 & 204 & 0\\\\\n",
       "\t 56 & 120 & 236 & 0\\\\\n",
       "\\end{tabular}\n"
      ],
      "text/markdown": [
       "\n",
       "A tibble: 6 × 4\n",
       "\n",
       "| age &lt;dbl&gt; | blood_pressure &lt;dbl&gt; | cholesterol &lt;dbl&gt; | heart_diagnosis &lt;dbl&gt; |\n",
       "|---|---|---|---|\n",
       "| 63 | 145 | 233 | 0 |\n",
       "| 67 | 160 | 286 | 2 |\n",
       "| 67 | 120 | 229 | 1 |\n",
       "| 37 | 130 | 250 | 0 |\n",
       "| 41 | 130 | 204 | 0 |\n",
       "| 56 | 120 | 236 | 0 |\n",
       "\n"
      ],
      "text/plain": [
       "  age blood_pressure cholesterol heart_diagnosis\n",
       "1 63  145            233         0              \n",
       "2 67  160            286         2              \n",
       "3 67  120            229         1              \n",
       "4 37  130            250         0              \n",
       "5 41  130            204         0              \n",
       "6 56  120            236         0              "
      ]
     },
     "metadata": {},
     "output_type": "display_data"
    }
   ],
   "source": [
    "heart_clean <- select(heart, \"age\", \"trestbps\", \"chol\", \"predicted_attribute\")\n",
    "colnames(heart_clean) <- c(\"age\",\"blood_pressure\",\"cholesterol\",\"heart_diagnosis\")\n",
    "head(heart_clean)"
   ]
  },
  {
   "cell_type": "code",
   "execution_count": 4,
   "id": "07de2fa9-2224-4161-91e1-a1f38c5c6f85",
   "metadata": {},
   "outputs": [
    {
     "data": {
      "text/html": [
       "<table class=\"dataframe\">\n",
       "<caption>A tibble: 6 × 4</caption>\n",
       "<thead>\n",
       "\t<tr><th scope=col>age</th><th scope=col>blood_pressure</th><th scope=col>cholesterol</th><th scope=col>heart_diagnosis</th></tr>\n",
       "\t<tr><th scope=col>&lt;dbl&gt;</th><th scope=col>&lt;dbl&gt;</th><th scope=col>&lt;dbl&gt;</th><th scope=col>&lt;fct&gt;</th></tr>\n",
       "</thead>\n",
       "<tbody>\n",
       "\t<tr><td>63</td><td>145</td><td>233</td><td>no</td></tr>\n",
       "\t<tr><td>37</td><td>130</td><td>250</td><td>no</td></tr>\n",
       "\t<tr><td>41</td><td>130</td><td>204</td><td>no</td></tr>\n",
       "\t<tr><td>56</td><td>120</td><td>236</td><td>no</td></tr>\n",
       "\t<tr><td>57</td><td>120</td><td>354</td><td>no</td></tr>\n",
       "\t<tr><td>57</td><td>140</td><td>192</td><td>no</td></tr>\n",
       "</tbody>\n",
       "</table>\n"
      ],
      "text/latex": [
       "A tibble: 6 × 4\n",
       "\\begin{tabular}{llll}\n",
       " age & blood\\_pressure & cholesterol & heart\\_diagnosis\\\\\n",
       " <dbl> & <dbl> & <dbl> & <fct>\\\\\n",
       "\\hline\n",
       "\t 63 & 145 & 233 & no\\\\\n",
       "\t 37 & 130 & 250 & no\\\\\n",
       "\t 41 & 130 & 204 & no\\\\\n",
       "\t 56 & 120 & 236 & no\\\\\n",
       "\t 57 & 120 & 354 & no\\\\\n",
       "\t 57 & 140 & 192 & no\\\\\n",
       "\\end{tabular}\n"
      ],
      "text/markdown": [
       "\n",
       "A tibble: 6 × 4\n",
       "\n",
       "| age &lt;dbl&gt; | blood_pressure &lt;dbl&gt; | cholesterol &lt;dbl&gt; | heart_diagnosis &lt;fct&gt; |\n",
       "|---|---|---|---|\n",
       "| 63 | 145 | 233 | no |\n",
       "| 37 | 130 | 250 | no |\n",
       "| 41 | 130 | 204 | no |\n",
       "| 56 | 120 | 236 | no |\n",
       "| 57 | 120 | 354 | no |\n",
       "| 57 | 140 | 192 | no |\n",
       "\n"
      ],
      "text/plain": [
       "  age blood_pressure cholesterol heart_diagnosis\n",
       "1 63  145            233         no             \n",
       "2 37  130            250         no             \n",
       "3 41  130            204         no             \n",
       "4 56  120            236         no             \n",
       "5 57  120            354         no             \n",
       "6 57  140            192         no             "
      ]
     },
     "metadata": {},
     "output_type": "display_data"
    }
   ],
   "source": [
    "heart_filter <- filter(heart_clean, heart_diagnosis == 1 | heart_diagnosis == 2 | heart_diagnosis == 3 |heart_diagnosis == 4)|>\n",
    "    mutate(heart_diagnosis = \"yes\")\n",
    "heart_data <- filter(heart_clean, heart_diagnosis == 0)|>\n",
    "    mutate(heart_diagnosis = \"no\")|>\n",
    "    bind_rows(heart_filter)|>\n",
    "    mutate(heart_diagnosis = as.factor(heart_diagnosis))\n",
    "head(heart_data)"
   ]
  },
  {
   "cell_type": "code",
   "execution_count": 5,
   "id": "5a045632-5658-421f-9fa9-ca75feaeec4b",
   "metadata": {},
   "outputs": [],
   "source": [
    "set.seed(1145)\n",
    "heart_split <- initial_split(heart_data, prop = 0.75, strata = heart_diagnosis)\n",
    "heart_training <- training(heart_split)\n",
    "heart_testing <- testing(heart_split)"
   ]
  },
  {
   "cell_type": "code",
   "execution_count": 6,
   "id": "8a1dcdd6-681d-46c7-b823-05f773cefd76",
   "metadata": {},
   "outputs": [],
   "source": [
    "heart_recipe <- recipe(heart_diagnosis ~ age + blood_pressure + cholesterol, data = heart_training)|>\n",
    "    step_scale(all_predictors())|>\n",
    "    step_center(all_predictors())"
   ]
  },
  {
   "cell_type": "code",
   "execution_count": 7,
   "id": "a2b7ad0e-60dd-4c95-9fc1-0c9c77d5106b",
   "metadata": {},
   "outputs": [],
   "source": [
    "#Choosing a K value by performing a 5-fold cross validation to determine the K value between 1 and 10 that has the highest accuracy\n",
    "heart_vfold <- vfold_cv(heart_training, v =5, strata = heart_diagnosis)\n",
    "knn_spec <- nearest_neighbor(weight_func = \"rectangular\", neighbors = tune()) |>\n",
    "    set_engine(\"kknn\") |>\n",
    "    set_mode(\"classification\")\n",
    "k_vals <- tibble(neighbors = seq(from =1, to = 50, by = 1))\n",
    "knn_results <- workflow() |>\n",
    "    add_recipe(heart_recipe) |>\n",
    "    add_model(knn_spec) |>\n",
    "    tune_grid(resamples = heart_vfold, grid = k_vals) |>\n",
    "    collect_metrics()"
   ]
  },
  {
   "cell_type": "code",
   "execution_count": 9,
   "id": "df0586da-c564-43fc-a123-bef36443c6c9",
   "metadata": {},
   "outputs": [
    {
     "data": {
      "text/html": [
       "<table class=\"dataframe\">\n",
       "<caption>A tibble: 50 × 7</caption>\n",
       "<thead>\n",
       "\t<tr><th scope=col>neighbors</th><th scope=col>.metric</th><th scope=col>.estimator</th><th scope=col>mean</th><th scope=col>n</th><th scope=col>std_err</th><th scope=col>.config</th></tr>\n",
       "\t<tr><th scope=col>&lt;dbl&gt;</th><th scope=col>&lt;chr&gt;</th><th scope=col>&lt;chr&gt;</th><th scope=col>&lt;dbl&gt;</th><th scope=col>&lt;int&gt;</th><th scope=col>&lt;dbl&gt;</th><th scope=col>&lt;chr&gt;</th></tr>\n",
       "</thead>\n",
       "<tbody>\n",
       "\t<tr><td> 1</td><td>accuracy</td><td>binary</td><td>0.5772112</td><td>5</td><td>0.04646601</td><td>Preprocessor1_Model01</td></tr>\n",
       "\t<tr><td> 2</td><td>accuracy</td><td>binary</td><td>0.5772112</td><td>5</td><td>0.04646601</td><td>Preprocessor1_Model02</td></tr>\n",
       "\t<tr><td> 3</td><td>accuracy</td><td>binary</td><td>0.5456873</td><td>5</td><td>0.03975987</td><td>Preprocessor1_Model03</td></tr>\n",
       "\t<tr><td> 4</td><td>accuracy</td><td>binary</td><td>0.5456873</td><td>5</td><td>0.03975987</td><td>Preprocessor1_Model04</td></tr>\n",
       "\t<tr><td> 5</td><td>accuracy</td><td>binary</td><td>0.5639701</td><td>5</td><td>0.03138502</td><td>Preprocessor1_Model05</td></tr>\n",
       "\t<tr><td> 6</td><td>accuracy</td><td>binary</td><td>0.5639701</td><td>5</td><td>0.03138502</td><td>Preprocessor1_Model06</td></tr>\n",
       "\t<tr><td> 7</td><td>accuracy</td><td>binary</td><td>0.5599209</td><td>5</td><td>0.02556539</td><td>Preprocessor1_Model07</td></tr>\n",
       "\t<tr><td> 8</td><td>accuracy</td><td>binary</td><td>0.5599209</td><td>5</td><td>0.02556539</td><td>Preprocessor1_Model08</td></tr>\n",
       "\t<tr><td> 9</td><td>accuracy</td><td>binary</td><td>0.5901493</td><td>5</td><td>0.03354002</td><td>Preprocessor1_Model09</td></tr>\n",
       "\t<tr><td>10</td><td>accuracy</td><td>binary</td><td>0.5901493</td><td>5</td><td>0.03354002</td><td>Preprocessor1_Model10</td></tr>\n",
       "\t<tr><td>11</td><td>accuracy</td><td>binary</td><td>0.5907466</td><td>5</td><td>0.02633366</td><td>Preprocessor1_Model11</td></tr>\n",
       "\t<tr><td>12</td><td>accuracy</td><td>binary</td><td>0.5907466</td><td>5</td><td>0.02633366</td><td>Preprocessor1_Model12</td></tr>\n",
       "\t<tr><td>13</td><td>accuracy</td><td>binary</td><td>0.6130742</td><td>5</td><td>0.02740296</td><td>Preprocessor1_Model13</td></tr>\n",
       "\t<tr><td>14</td><td>accuracy</td><td>binary</td><td>0.6130742</td><td>5</td><td>0.02740296</td><td>Preprocessor1_Model14</td></tr>\n",
       "\t<tr><td>15</td><td>accuracy</td><td>binary</td><td>0.6046684</td><td>5</td><td>0.04683759</td><td>Preprocessor1_Model15</td></tr>\n",
       "\t<tr><td>16</td><td>accuracy</td><td>binary</td><td>0.6046684</td><td>5</td><td>0.04683759</td><td>Preprocessor1_Model16</td></tr>\n",
       "\t<tr><td>17</td><td>accuracy</td><td>binary</td><td>0.6045762</td><td>5</td><td>0.03462683</td><td>Preprocessor1_Model17</td></tr>\n",
       "\t<tr><td>18</td><td>accuracy</td><td>binary</td><td>0.6045762</td><td>5</td><td>0.03462683</td><td>Preprocessor1_Model18</td></tr>\n",
       "\t<tr><td>19</td><td>accuracy</td><td>binary</td><td>0.6132762</td><td>5</td><td>0.02872622</td><td>Preprocessor1_Model19</td></tr>\n",
       "\t<tr><td>20</td><td>accuracy</td><td>binary</td><td>0.6132762</td><td>5</td><td>0.02872622</td><td>Preprocessor1_Model20</td></tr>\n",
       "\t<tr><td>21</td><td>accuracy</td><td>binary</td><td>0.6172332</td><td>5</td><td>0.02264570</td><td>Preprocessor1_Model21</td></tr>\n",
       "\t<tr><td>22</td><td>accuracy</td><td>binary</td><td>0.6172332</td><td>5</td><td>0.02264570</td><td>Preprocessor1_Model22</td></tr>\n",
       "\t<tr><td>23</td><td>accuracy</td><td>binary</td><td>0.6041853</td><td>5</td><td>0.02611544</td><td>Preprocessor1_Model23</td></tr>\n",
       "\t<tr><td>24</td><td>accuracy</td><td>binary</td><td>0.6041853</td><td>5</td><td>0.02611544</td><td>Preprocessor1_Model24</td></tr>\n",
       "\t<tr><td>25</td><td>accuracy</td><td>binary</td><td>0.6175231</td><td>5</td><td>0.02732598</td><td>Preprocessor1_Model25</td></tr>\n",
       "\t<tr><td>26</td><td>accuracy</td><td>binary</td><td>0.6175231</td><td>5</td><td>0.02732598</td><td>Preprocessor1_Model26</td></tr>\n",
       "\t<tr><td>27</td><td>accuracy</td><td>binary</td><td>0.6261177</td><td>5</td><td>0.02268098</td><td>Preprocessor1_Model27</td></tr>\n",
       "\t<tr><td>28</td><td>accuracy</td><td>binary</td><td>0.6261177</td><td>5</td><td>0.02268098</td><td>Preprocessor1_Model28</td></tr>\n",
       "\t<tr><td>29</td><td>accuracy</td><td>binary</td><td>0.6524989</td><td>5</td><td>0.02341805</td><td>Preprocessor1_Model29</td></tr>\n",
       "\t<tr><td>30</td><td>accuracy</td><td>binary</td><td>0.6524989</td><td>5</td><td>0.02341805</td><td>Preprocessor1_Model30</td></tr>\n",
       "\t<tr><td>31</td><td>accuracy</td><td>binary</td><td>0.6303689</td><td>5</td><td>0.02455431</td><td>Preprocessor1_Model31</td></tr>\n",
       "\t<tr><td>32</td><td>accuracy</td><td>binary</td><td>0.6303689</td><td>5</td><td>0.02455431</td><td>Preprocessor1_Model32</td></tr>\n",
       "\t<tr><td>33</td><td>accuracy</td><td>binary</td><td>0.6390646</td><td>5</td><td>0.02317408</td><td>Preprocessor1_Model33</td></tr>\n",
       "\t<tr><td>34</td><td>accuracy</td><td>binary</td><td>0.6390646</td><td>5</td><td>0.02317408</td><td>Preprocessor1_Model34</td></tr>\n",
       "\t<tr><td>35</td><td>accuracy</td><td>binary</td><td>0.6257268</td><td>5</td><td>0.01215758</td><td>Preprocessor1_Model35</td></tr>\n",
       "\t<tr><td>36</td><td>accuracy</td><td>binary</td><td>0.6257268</td><td>5</td><td>0.01215758</td><td>Preprocessor1_Model36</td></tr>\n",
       "\t<tr><td>37</td><td>accuracy</td><td>binary</td><td>0.6167369</td><td>5</td><td>0.01059957</td><td>Preprocessor1_Model37</td></tr>\n",
       "\t<tr><td>38</td><td>accuracy</td><td>binary</td><td>0.6167369</td><td>5</td><td>0.01059957</td><td>Preprocessor1_Model38</td></tr>\n",
       "\t<tr><td>39</td><td>accuracy</td><td>binary</td><td>0.6347167</td><td>5</td><td>0.01561696</td><td>Preprocessor1_Model39</td></tr>\n",
       "\t<tr><td>40</td><td>accuracy</td><td>binary</td><td>0.6347167</td><td>5</td><td>0.01561696</td><td>Preprocessor1_Model40</td></tr>\n",
       "\t<tr><td>41</td><td>accuracy</td><td>binary</td><td>0.6477646</td><td>5</td><td>0.01421553</td><td>Preprocessor1_Model41</td></tr>\n",
       "\t<tr><td>42</td><td>accuracy</td><td>binary</td><td>0.6477646</td><td>5</td><td>0.01421553</td><td>Preprocessor1_Model42</td></tr>\n",
       "\t<tr><td>43</td><td>accuracy</td><td>binary</td><td>0.6390690</td><td>5</td><td>0.01748667</td><td>Preprocessor1_Model43</td></tr>\n",
       "\t<tr><td>44</td><td>accuracy</td><td>binary</td><td>0.6390690</td><td>5</td><td>0.01748667</td><td>Preprocessor1_Model44</td></tr>\n",
       "\t<tr><td>45</td><td>accuracy</td><td>binary</td><td>0.6393632</td><td>5</td><td>0.02964575</td><td>Preprocessor1_Model45</td></tr>\n",
       "\t<tr><td>46</td><td>accuracy</td><td>binary</td><td>0.6393632</td><td>5</td><td>0.02964575</td><td>Preprocessor1_Model46</td></tr>\n",
       "\t<tr><td>47</td><td>accuracy</td><td>binary</td><td>0.6349144</td><td>5</td><td>0.02624601</td><td>Preprocessor1_Model47</td></tr>\n",
       "\t<tr><td>48</td><td>accuracy</td><td>binary</td><td>0.6349144</td><td>5</td><td>0.02624601</td><td>Preprocessor1_Model48</td></tr>\n",
       "\t<tr><td>49</td><td>accuracy</td><td>binary</td><td>0.6174220</td><td>5</td><td>0.03643371</td><td>Preprocessor1_Model49</td></tr>\n",
       "\t<tr><td>50</td><td>accuracy</td><td>binary</td><td>0.6174220</td><td>5</td><td>0.03643371</td><td>Preprocessor1_Model50</td></tr>\n",
       "</tbody>\n",
       "</table>\n"
      ],
      "text/latex": [
       "A tibble: 50 × 7\n",
       "\\begin{tabular}{lllllll}\n",
       " neighbors & .metric & .estimator & mean & n & std\\_err & .config\\\\\n",
       " <dbl> & <chr> & <chr> & <dbl> & <int> & <dbl> & <chr>\\\\\n",
       "\\hline\n",
       "\t  1 & accuracy & binary & 0.5772112 & 5 & 0.04646601 & Preprocessor1\\_Model01\\\\\n",
       "\t  2 & accuracy & binary & 0.5772112 & 5 & 0.04646601 & Preprocessor1\\_Model02\\\\\n",
       "\t  3 & accuracy & binary & 0.5456873 & 5 & 0.03975987 & Preprocessor1\\_Model03\\\\\n",
       "\t  4 & accuracy & binary & 0.5456873 & 5 & 0.03975987 & Preprocessor1\\_Model04\\\\\n",
       "\t  5 & accuracy & binary & 0.5639701 & 5 & 0.03138502 & Preprocessor1\\_Model05\\\\\n",
       "\t  6 & accuracy & binary & 0.5639701 & 5 & 0.03138502 & Preprocessor1\\_Model06\\\\\n",
       "\t  7 & accuracy & binary & 0.5599209 & 5 & 0.02556539 & Preprocessor1\\_Model07\\\\\n",
       "\t  8 & accuracy & binary & 0.5599209 & 5 & 0.02556539 & Preprocessor1\\_Model08\\\\\n",
       "\t  9 & accuracy & binary & 0.5901493 & 5 & 0.03354002 & Preprocessor1\\_Model09\\\\\n",
       "\t 10 & accuracy & binary & 0.5901493 & 5 & 0.03354002 & Preprocessor1\\_Model10\\\\\n",
       "\t 11 & accuracy & binary & 0.5907466 & 5 & 0.02633366 & Preprocessor1\\_Model11\\\\\n",
       "\t 12 & accuracy & binary & 0.5907466 & 5 & 0.02633366 & Preprocessor1\\_Model12\\\\\n",
       "\t 13 & accuracy & binary & 0.6130742 & 5 & 0.02740296 & Preprocessor1\\_Model13\\\\\n",
       "\t 14 & accuracy & binary & 0.6130742 & 5 & 0.02740296 & Preprocessor1\\_Model14\\\\\n",
       "\t 15 & accuracy & binary & 0.6046684 & 5 & 0.04683759 & Preprocessor1\\_Model15\\\\\n",
       "\t 16 & accuracy & binary & 0.6046684 & 5 & 0.04683759 & Preprocessor1\\_Model16\\\\\n",
       "\t 17 & accuracy & binary & 0.6045762 & 5 & 0.03462683 & Preprocessor1\\_Model17\\\\\n",
       "\t 18 & accuracy & binary & 0.6045762 & 5 & 0.03462683 & Preprocessor1\\_Model18\\\\\n",
       "\t 19 & accuracy & binary & 0.6132762 & 5 & 0.02872622 & Preprocessor1\\_Model19\\\\\n",
       "\t 20 & accuracy & binary & 0.6132762 & 5 & 0.02872622 & Preprocessor1\\_Model20\\\\\n",
       "\t 21 & accuracy & binary & 0.6172332 & 5 & 0.02264570 & Preprocessor1\\_Model21\\\\\n",
       "\t 22 & accuracy & binary & 0.6172332 & 5 & 0.02264570 & Preprocessor1\\_Model22\\\\\n",
       "\t 23 & accuracy & binary & 0.6041853 & 5 & 0.02611544 & Preprocessor1\\_Model23\\\\\n",
       "\t 24 & accuracy & binary & 0.6041853 & 5 & 0.02611544 & Preprocessor1\\_Model24\\\\\n",
       "\t 25 & accuracy & binary & 0.6175231 & 5 & 0.02732598 & Preprocessor1\\_Model25\\\\\n",
       "\t 26 & accuracy & binary & 0.6175231 & 5 & 0.02732598 & Preprocessor1\\_Model26\\\\\n",
       "\t 27 & accuracy & binary & 0.6261177 & 5 & 0.02268098 & Preprocessor1\\_Model27\\\\\n",
       "\t 28 & accuracy & binary & 0.6261177 & 5 & 0.02268098 & Preprocessor1\\_Model28\\\\\n",
       "\t 29 & accuracy & binary & 0.6524989 & 5 & 0.02341805 & Preprocessor1\\_Model29\\\\\n",
       "\t 30 & accuracy & binary & 0.6524989 & 5 & 0.02341805 & Preprocessor1\\_Model30\\\\\n",
       "\t 31 & accuracy & binary & 0.6303689 & 5 & 0.02455431 & Preprocessor1\\_Model31\\\\\n",
       "\t 32 & accuracy & binary & 0.6303689 & 5 & 0.02455431 & Preprocessor1\\_Model32\\\\\n",
       "\t 33 & accuracy & binary & 0.6390646 & 5 & 0.02317408 & Preprocessor1\\_Model33\\\\\n",
       "\t 34 & accuracy & binary & 0.6390646 & 5 & 0.02317408 & Preprocessor1\\_Model34\\\\\n",
       "\t 35 & accuracy & binary & 0.6257268 & 5 & 0.01215758 & Preprocessor1\\_Model35\\\\\n",
       "\t 36 & accuracy & binary & 0.6257268 & 5 & 0.01215758 & Preprocessor1\\_Model36\\\\\n",
       "\t 37 & accuracy & binary & 0.6167369 & 5 & 0.01059957 & Preprocessor1\\_Model37\\\\\n",
       "\t 38 & accuracy & binary & 0.6167369 & 5 & 0.01059957 & Preprocessor1\\_Model38\\\\\n",
       "\t 39 & accuracy & binary & 0.6347167 & 5 & 0.01561696 & Preprocessor1\\_Model39\\\\\n",
       "\t 40 & accuracy & binary & 0.6347167 & 5 & 0.01561696 & Preprocessor1\\_Model40\\\\\n",
       "\t 41 & accuracy & binary & 0.6477646 & 5 & 0.01421553 & Preprocessor1\\_Model41\\\\\n",
       "\t 42 & accuracy & binary & 0.6477646 & 5 & 0.01421553 & Preprocessor1\\_Model42\\\\\n",
       "\t 43 & accuracy & binary & 0.6390690 & 5 & 0.01748667 & Preprocessor1\\_Model43\\\\\n",
       "\t 44 & accuracy & binary & 0.6390690 & 5 & 0.01748667 & Preprocessor1\\_Model44\\\\\n",
       "\t 45 & accuracy & binary & 0.6393632 & 5 & 0.02964575 & Preprocessor1\\_Model45\\\\\n",
       "\t 46 & accuracy & binary & 0.6393632 & 5 & 0.02964575 & Preprocessor1\\_Model46\\\\\n",
       "\t 47 & accuracy & binary & 0.6349144 & 5 & 0.02624601 & Preprocessor1\\_Model47\\\\\n",
       "\t 48 & accuracy & binary & 0.6349144 & 5 & 0.02624601 & Preprocessor1\\_Model48\\\\\n",
       "\t 49 & accuracy & binary & 0.6174220 & 5 & 0.03643371 & Preprocessor1\\_Model49\\\\\n",
       "\t 50 & accuracy & binary & 0.6174220 & 5 & 0.03643371 & Preprocessor1\\_Model50\\\\\n",
       "\\end{tabular}\n"
      ],
      "text/markdown": [
       "\n",
       "A tibble: 50 × 7\n",
       "\n",
       "| neighbors &lt;dbl&gt; | .metric &lt;chr&gt; | .estimator &lt;chr&gt; | mean &lt;dbl&gt; | n &lt;int&gt; | std_err &lt;dbl&gt; | .config &lt;chr&gt; |\n",
       "|---|---|---|---|---|---|---|\n",
       "|  1 | accuracy | binary | 0.5772112 | 5 | 0.04646601 | Preprocessor1_Model01 |\n",
       "|  2 | accuracy | binary | 0.5772112 | 5 | 0.04646601 | Preprocessor1_Model02 |\n",
       "|  3 | accuracy | binary | 0.5456873 | 5 | 0.03975987 | Preprocessor1_Model03 |\n",
       "|  4 | accuracy | binary | 0.5456873 | 5 | 0.03975987 | Preprocessor1_Model04 |\n",
       "|  5 | accuracy | binary | 0.5639701 | 5 | 0.03138502 | Preprocessor1_Model05 |\n",
       "|  6 | accuracy | binary | 0.5639701 | 5 | 0.03138502 | Preprocessor1_Model06 |\n",
       "|  7 | accuracy | binary | 0.5599209 | 5 | 0.02556539 | Preprocessor1_Model07 |\n",
       "|  8 | accuracy | binary | 0.5599209 | 5 | 0.02556539 | Preprocessor1_Model08 |\n",
       "|  9 | accuracy | binary | 0.5901493 | 5 | 0.03354002 | Preprocessor1_Model09 |\n",
       "| 10 | accuracy | binary | 0.5901493 | 5 | 0.03354002 | Preprocessor1_Model10 |\n",
       "| 11 | accuracy | binary | 0.5907466 | 5 | 0.02633366 | Preprocessor1_Model11 |\n",
       "| 12 | accuracy | binary | 0.5907466 | 5 | 0.02633366 | Preprocessor1_Model12 |\n",
       "| 13 | accuracy | binary | 0.6130742 | 5 | 0.02740296 | Preprocessor1_Model13 |\n",
       "| 14 | accuracy | binary | 0.6130742 | 5 | 0.02740296 | Preprocessor1_Model14 |\n",
       "| 15 | accuracy | binary | 0.6046684 | 5 | 0.04683759 | Preprocessor1_Model15 |\n",
       "| 16 | accuracy | binary | 0.6046684 | 5 | 0.04683759 | Preprocessor1_Model16 |\n",
       "| 17 | accuracy | binary | 0.6045762 | 5 | 0.03462683 | Preprocessor1_Model17 |\n",
       "| 18 | accuracy | binary | 0.6045762 | 5 | 0.03462683 | Preprocessor1_Model18 |\n",
       "| 19 | accuracy | binary | 0.6132762 | 5 | 0.02872622 | Preprocessor1_Model19 |\n",
       "| 20 | accuracy | binary | 0.6132762 | 5 | 0.02872622 | Preprocessor1_Model20 |\n",
       "| 21 | accuracy | binary | 0.6172332 | 5 | 0.02264570 | Preprocessor1_Model21 |\n",
       "| 22 | accuracy | binary | 0.6172332 | 5 | 0.02264570 | Preprocessor1_Model22 |\n",
       "| 23 | accuracy | binary | 0.6041853 | 5 | 0.02611544 | Preprocessor1_Model23 |\n",
       "| 24 | accuracy | binary | 0.6041853 | 5 | 0.02611544 | Preprocessor1_Model24 |\n",
       "| 25 | accuracy | binary | 0.6175231 | 5 | 0.02732598 | Preprocessor1_Model25 |\n",
       "| 26 | accuracy | binary | 0.6175231 | 5 | 0.02732598 | Preprocessor1_Model26 |\n",
       "| 27 | accuracy | binary | 0.6261177 | 5 | 0.02268098 | Preprocessor1_Model27 |\n",
       "| 28 | accuracy | binary | 0.6261177 | 5 | 0.02268098 | Preprocessor1_Model28 |\n",
       "| 29 | accuracy | binary | 0.6524989 | 5 | 0.02341805 | Preprocessor1_Model29 |\n",
       "| 30 | accuracy | binary | 0.6524989 | 5 | 0.02341805 | Preprocessor1_Model30 |\n",
       "| 31 | accuracy | binary | 0.6303689 | 5 | 0.02455431 | Preprocessor1_Model31 |\n",
       "| 32 | accuracy | binary | 0.6303689 | 5 | 0.02455431 | Preprocessor1_Model32 |\n",
       "| 33 | accuracy | binary | 0.6390646 | 5 | 0.02317408 | Preprocessor1_Model33 |\n",
       "| 34 | accuracy | binary | 0.6390646 | 5 | 0.02317408 | Preprocessor1_Model34 |\n",
       "| 35 | accuracy | binary | 0.6257268 | 5 | 0.01215758 | Preprocessor1_Model35 |\n",
       "| 36 | accuracy | binary | 0.6257268 | 5 | 0.01215758 | Preprocessor1_Model36 |\n",
       "| 37 | accuracy | binary | 0.6167369 | 5 | 0.01059957 | Preprocessor1_Model37 |\n",
       "| 38 | accuracy | binary | 0.6167369 | 5 | 0.01059957 | Preprocessor1_Model38 |\n",
       "| 39 | accuracy | binary | 0.6347167 | 5 | 0.01561696 | Preprocessor1_Model39 |\n",
       "| 40 | accuracy | binary | 0.6347167 | 5 | 0.01561696 | Preprocessor1_Model40 |\n",
       "| 41 | accuracy | binary | 0.6477646 | 5 | 0.01421553 | Preprocessor1_Model41 |\n",
       "| 42 | accuracy | binary | 0.6477646 | 5 | 0.01421553 | Preprocessor1_Model42 |\n",
       "| 43 | accuracy | binary | 0.6390690 | 5 | 0.01748667 | Preprocessor1_Model43 |\n",
       "| 44 | accuracy | binary | 0.6390690 | 5 | 0.01748667 | Preprocessor1_Model44 |\n",
       "| 45 | accuracy | binary | 0.6393632 | 5 | 0.02964575 | Preprocessor1_Model45 |\n",
       "| 46 | accuracy | binary | 0.6393632 | 5 | 0.02964575 | Preprocessor1_Model46 |\n",
       "| 47 | accuracy | binary | 0.6349144 | 5 | 0.02624601 | Preprocessor1_Model47 |\n",
       "| 48 | accuracy | binary | 0.6349144 | 5 | 0.02624601 | Preprocessor1_Model48 |\n",
       "| 49 | accuracy | binary | 0.6174220 | 5 | 0.03643371 | Preprocessor1_Model49 |\n",
       "| 50 | accuracy | binary | 0.6174220 | 5 | 0.03643371 | Preprocessor1_Model50 |\n",
       "\n"
      ],
      "text/plain": [
       "   neighbors .metric  .estimator mean      n std_err    .config              \n",
       "1   1        accuracy binary     0.5772112 5 0.04646601 Preprocessor1_Model01\n",
       "2   2        accuracy binary     0.5772112 5 0.04646601 Preprocessor1_Model02\n",
       "3   3        accuracy binary     0.5456873 5 0.03975987 Preprocessor1_Model03\n",
       "4   4        accuracy binary     0.5456873 5 0.03975987 Preprocessor1_Model04\n",
       "5   5        accuracy binary     0.5639701 5 0.03138502 Preprocessor1_Model05\n",
       "6   6        accuracy binary     0.5639701 5 0.03138502 Preprocessor1_Model06\n",
       "7   7        accuracy binary     0.5599209 5 0.02556539 Preprocessor1_Model07\n",
       "8   8        accuracy binary     0.5599209 5 0.02556539 Preprocessor1_Model08\n",
       "9   9        accuracy binary     0.5901493 5 0.03354002 Preprocessor1_Model09\n",
       "10 10        accuracy binary     0.5901493 5 0.03354002 Preprocessor1_Model10\n",
       "11 11        accuracy binary     0.5907466 5 0.02633366 Preprocessor1_Model11\n",
       "12 12        accuracy binary     0.5907466 5 0.02633366 Preprocessor1_Model12\n",
       "13 13        accuracy binary     0.6130742 5 0.02740296 Preprocessor1_Model13\n",
       "14 14        accuracy binary     0.6130742 5 0.02740296 Preprocessor1_Model14\n",
       "15 15        accuracy binary     0.6046684 5 0.04683759 Preprocessor1_Model15\n",
       "16 16        accuracy binary     0.6046684 5 0.04683759 Preprocessor1_Model16\n",
       "17 17        accuracy binary     0.6045762 5 0.03462683 Preprocessor1_Model17\n",
       "18 18        accuracy binary     0.6045762 5 0.03462683 Preprocessor1_Model18\n",
       "19 19        accuracy binary     0.6132762 5 0.02872622 Preprocessor1_Model19\n",
       "20 20        accuracy binary     0.6132762 5 0.02872622 Preprocessor1_Model20\n",
       "21 21        accuracy binary     0.6172332 5 0.02264570 Preprocessor1_Model21\n",
       "22 22        accuracy binary     0.6172332 5 0.02264570 Preprocessor1_Model22\n",
       "23 23        accuracy binary     0.6041853 5 0.02611544 Preprocessor1_Model23\n",
       "24 24        accuracy binary     0.6041853 5 0.02611544 Preprocessor1_Model24\n",
       "25 25        accuracy binary     0.6175231 5 0.02732598 Preprocessor1_Model25\n",
       "26 26        accuracy binary     0.6175231 5 0.02732598 Preprocessor1_Model26\n",
       "27 27        accuracy binary     0.6261177 5 0.02268098 Preprocessor1_Model27\n",
       "28 28        accuracy binary     0.6261177 5 0.02268098 Preprocessor1_Model28\n",
       "29 29        accuracy binary     0.6524989 5 0.02341805 Preprocessor1_Model29\n",
       "30 30        accuracy binary     0.6524989 5 0.02341805 Preprocessor1_Model30\n",
       "31 31        accuracy binary     0.6303689 5 0.02455431 Preprocessor1_Model31\n",
       "32 32        accuracy binary     0.6303689 5 0.02455431 Preprocessor1_Model32\n",
       "33 33        accuracy binary     0.6390646 5 0.02317408 Preprocessor1_Model33\n",
       "34 34        accuracy binary     0.6390646 5 0.02317408 Preprocessor1_Model34\n",
       "35 35        accuracy binary     0.6257268 5 0.01215758 Preprocessor1_Model35\n",
       "36 36        accuracy binary     0.6257268 5 0.01215758 Preprocessor1_Model36\n",
       "37 37        accuracy binary     0.6167369 5 0.01059957 Preprocessor1_Model37\n",
       "38 38        accuracy binary     0.6167369 5 0.01059957 Preprocessor1_Model38\n",
       "39 39        accuracy binary     0.6347167 5 0.01561696 Preprocessor1_Model39\n",
       "40 40        accuracy binary     0.6347167 5 0.01561696 Preprocessor1_Model40\n",
       "41 41        accuracy binary     0.6477646 5 0.01421553 Preprocessor1_Model41\n",
       "42 42        accuracy binary     0.6477646 5 0.01421553 Preprocessor1_Model42\n",
       "43 43        accuracy binary     0.6390690 5 0.01748667 Preprocessor1_Model43\n",
       "44 44        accuracy binary     0.6390690 5 0.01748667 Preprocessor1_Model44\n",
       "45 45        accuracy binary     0.6393632 5 0.02964575 Preprocessor1_Model45\n",
       "46 46        accuracy binary     0.6393632 5 0.02964575 Preprocessor1_Model46\n",
       "47 47        accuracy binary     0.6349144 5 0.02624601 Preprocessor1_Model47\n",
       "48 48        accuracy binary     0.6349144 5 0.02624601 Preprocessor1_Model48\n",
       "49 49        accuracy binary     0.6174220 5 0.03643371 Preprocessor1_Model49\n",
       "50 50        accuracy binary     0.6174220 5 0.03643371 Preprocessor1_Model50"
      ]
     },
     "metadata": {},
     "output_type": "display_data"
    },
    {
     "data": {
      "image/png": "[encoded data removed]",
      "text/plain": [
       "plot without title"
      ]
     },
     "metadata": {
      "image/png": {
       "height": 420,
       "width": 420
      }
     },
     "output_type": "display_data"
    }
   ],
   "source": [
    "#We now collect the accuracies of these different Ks and then display them as a graph of the K versus accuracy to determine the appropriate value\n",
    "accuracies <- knn_results |>\n",
    "    filter(.metric == \"accuracy\")\n",
    "\n",
    "accuracy_vs_k <- ggplot(accuracies, aes(x = neighbors, y = mean)) +\n",
    "    geom_point() +\n",
    "    geom_line() +\n",
    "    labs(x = \"Neighbors\", y = \"Accuracy Estimate\") +\n",
    "    theme(text = element_text(size = 12))\n",
    "\n",
    "accuracies\n",
    "accuracy_vs_k"
   ]
  },
  {
   "cell_type": "code",
   "execution_count": 11,
   "id": "a923157e-93b0-469e-b887-1d9c6d302f08",
   "metadata": {},
   "outputs": [
    {
     "data": {
      "text/html": [
       "<table class=\"dataframe\">\n",
       "<caption>A tibble: 6 × 7</caption>\n",
       "<thead>\n",
       "\t<tr><th scope=col>neighbors</th><th scope=col>.metric</th><th scope=col>.estimator</th><th scope=col>mean</th><th scope=col>n</th><th scope=col>std_err</th><th scope=col>.config</th></tr>\n",
       "\t<tr><th scope=col>&lt;dbl&gt;</th><th scope=col>&lt;chr&gt;</th><th scope=col>&lt;chr&gt;</th><th scope=col>&lt;dbl&gt;</th><th scope=col>&lt;int&gt;</th><th scope=col>&lt;dbl&gt;</th><th scope=col>&lt;chr&gt;</th></tr>\n",
       "</thead>\n",
       "<tbody>\n",
       "\t<tr><td>29</td><td>accuracy</td><td>binary</td><td>0.6524989</td><td>5</td><td>0.02341805</td><td>Preprocessor1_Model29</td></tr>\n",
       "\t<tr><td>30</td><td>accuracy</td><td>binary</td><td>0.6524989</td><td>5</td><td>0.02341805</td><td>Preprocessor1_Model30</td></tr>\n",
       "\t<tr><td>41</td><td>accuracy</td><td>binary</td><td>0.6477646</td><td>5</td><td>0.01421553</td><td>Preprocessor1_Model41</td></tr>\n",
       "\t<tr><td>42</td><td>accuracy</td><td>binary</td><td>0.6477646</td><td>5</td><td>0.01421553</td><td>Preprocessor1_Model42</td></tr>\n",
       "\t<tr><td>45</td><td>accuracy</td><td>binary</td><td>0.6393632</td><td>5</td><td>0.02964575</td><td>Preprocessor1_Model45</td></tr>\n",
       "\t<tr><td>46</td><td>accuracy</td><td>binary</td><td>0.6393632</td><td>5</td><td>0.02964575</td><td>Preprocessor1_Model46</td></tr>\n",
       "</tbody>\n",
       "</table>\n"
      ],
      "text/latex": [
       "A tibble: 6 × 7\n",
       "\\begin{tabular}{lllllll}\n",
       " neighbors & .metric & .estimator & mean & n & std\\_err & .config\\\\\n",
       " <dbl> & <chr> & <chr> & <dbl> & <int> & <dbl> & <chr>\\\\\n",
       "\\hline\n",
       "\t 29 & accuracy & binary & 0.6524989 & 5 & 0.02341805 & Preprocessor1\\_Model29\\\\\n",
       "\t 30 & accuracy & binary & 0.6524989 & 5 & 0.02341805 & Preprocessor1\\_Model30\\\\\n",
       "\t 41 & accuracy & binary & 0.6477646 & 5 & 0.01421553 & Preprocessor1\\_Model41\\\\\n",
       "\t 42 & accuracy & binary & 0.6477646 & 5 & 0.01421553 & Preprocessor1\\_Model42\\\\\n",
       "\t 45 & accuracy & binary & 0.6393632 & 5 & 0.02964575 & Preprocessor1\\_Model45\\\\\n",
       "\t 46 & accuracy & binary & 0.6393632 & 5 & 0.02964575 & Preprocessor1\\_Model46\\\\\n",
       "\\end{tabular}\n"
      ],
      "text/markdown": [
       "\n",
       "A tibble: 6 × 7\n",
       "\n",
       "| neighbors &lt;dbl&gt; | .metric &lt;chr&gt; | .estimator &lt;chr&gt; | mean &lt;dbl&gt; | n &lt;int&gt; | std_err &lt;dbl&gt; | .config &lt;chr&gt; |\n",
       "|---|---|---|---|---|---|---|\n",
       "| 29 | accuracy | binary | 0.6524989 | 5 | 0.02341805 | Preprocessor1_Model29 |\n",
       "| 30 | accuracy | binary | 0.6524989 | 5 | 0.02341805 | Preprocessor1_Model30 |\n",
       "| 41 | accuracy | binary | 0.6477646 | 5 | 0.01421553 | Preprocessor1_Model41 |\n",
       "| 42 | accuracy | binary | 0.6477646 | 5 | 0.01421553 | Preprocessor1_Model42 |\n",
       "| 45 | accuracy | binary | 0.6393632 | 5 | 0.02964575 | Preprocessor1_Model45 |\n",
       "| 46 | accuracy | binary | 0.6393632 | 5 | 0.02964575 | Preprocessor1_Model46 |\n",
       "\n"
      ],
      "text/plain": [
       "  neighbors .metric  .estimator mean      n std_err    .config              \n",
       "1 29        accuracy binary     0.6524989 5 0.02341805 Preprocessor1_Model29\n",
       "2 30        accuracy binary     0.6524989 5 0.02341805 Preprocessor1_Model30\n",
       "3 41        accuracy binary     0.6477646 5 0.01421553 Preprocessor1_Model41\n",
       "4 42        accuracy binary     0.6477646 5 0.01421553 Preprocessor1_Model42\n",
       "5 45        accuracy binary     0.6393632 5 0.02964575 Preprocessor1_Model45\n",
       "6 46        accuracy binary     0.6393632 5 0.02964575 Preprocessor1_Model46"
      ]
     },
     "metadata": {},
     "output_type": "display_data"
    }
   ],
   "source": [
    "new_accuracies <- accuracies|>\n",
    "arrange(desc(mean))\n",
    "\n",
    "head(new_accuracies)"
   ]
  },
  {
   "cell_type": "code",
   "execution_count": 12,
   "id": "70952ab6-b43a-4699-bbcb-672cfc893e43",
   "metadata": {},
   "outputs": [],
   "source": [
    "knn_spec <- nearest_neighbor(weight_func = \"rectangular\", neighbor = 30)|>\n",
    "    set_engine(\"kknn\")|>\n",
    "    set_mode(\"classification\")"
   ]
  },
  {
   "cell_type": "code",
   "execution_count": 13,
   "id": "f72abd6a-059f-4c2f-8f0d-80612381e610",
   "metadata": {},
   "outputs": [],
   "source": [
    "knn_fit <- workflow()|>\n",
    "    add_recipe(heart_recipe)|>\n",
    "    add_model(knn_spec)|>\n",
    "    fit(data = heart_training)"
   ]
  },
  {
   "cell_type": "code",
   "execution_count": 17,
   "id": "015a287c-7e01-4946-8bc9-04a7a51b8468",
   "metadata": {},
   "outputs": [
    {
     "data": {
      "text/html": [
       "<table class=\"dataframe\">\n",
       "<caption>A tibble: 1 × 3</caption>\n",
       "<thead>\n",
       "\t<tr><th scope=col>.metric</th><th scope=col>.estimator</th><th scope=col>.estimate</th></tr>\n",
       "\t<tr><th scope=col>&lt;chr&gt;</th><th scope=col>&lt;chr&gt;</th><th scope=col>&lt;dbl&gt;</th></tr>\n",
       "</thead>\n",
       "<tbody>\n",
       "\t<tr><td>accuracy</td><td>binary</td><td>0.5526316</td></tr>\n",
       "</tbody>\n",
       "</table>\n"
      ],
      "text/latex": [
       "A tibble: 1 × 3\n",
       "\\begin{tabular}{lll}\n",
       " .metric & .estimator & .estimate\\\\\n",
       " <chr> & <chr> & <dbl>\\\\\n",
       "\\hline\n",
       "\t accuracy & binary & 0.5526316\\\\\n",
       "\\end{tabular}\n"
      ],
      "text/markdown": [
       "\n",
       "A tibble: 1 × 3\n",
       "\n",
       "| .metric &lt;chr&gt; | .estimator &lt;chr&gt; | .estimate &lt;dbl&gt; |\n",
       "|---|---|---|\n",
       "| accuracy | binary | 0.5526316 |\n",
       "\n"
      ],
      "text/plain": [
       "  .metric  .estimator .estimate\n",
       "1 accuracy binary     0.5526316"
      ]
     },
     "metadata": {},
     "output_type": "display_data"
    }
   ],
   "source": [
    "heart_test_prediction <- predict(knn_fit, heart_testing)|>\n",
    "    bind_cols(heart_testing)\n",
    "\n",
    "heart_prediction_accuracy <- heart_test_prediction |>\n",
    "         metrics(truth = heart_diagnosis, estimate = .pred_class)|>\n",
    "        filter(.metric == \"accuracy\")\n",
    "\n",
    "heart_prediction_accuracy"
   ]
  },
  {
   "cell_type": "code",
   "execution_count": 18,
   "id": "b45a51aa-c970-4735-88d0-e3d1e79da32a",
   "metadata": {},
   "outputs": [
    {
     "data": {
      "text/plain": [
       "          Truth\n",
       "Prediction no yes\n",
       "       no  20  13\n",
       "       yes 21  22"
      ]
     },
     "metadata": {},
     "output_type": "display_data"
    }
   ],
   "source": [
    "Confusion <- heart_test_prediction |>\n",
    "    conf_mat(truth =  heart_diagnosis, estimate = .pred_class)\n",
    "Confusion"
   ]
  },
  {
   "cell_type": "code",
   "execution_count": null,
   "id": "a5ce7e63-bc4e-45de-b263-5eb709e57da6",
   "metadata": {},
   "outputs": [],
   "source": []
  }
 ],
 "metadata": {
  "kernelspec": {
   "display_name": "R",
   "language": "R",
   "name": "ir"
  },
  "language_info": {
   "codemirror_mode": "r",
   "file_extension": ".r",
   "mimetype": "text/x-r-source",
   "name": "R",
   "pygments_lexer": "r",
   "version": "4.1.3"
  }
 },
 "nbformat": 4,
 "nbformat_minor": 5
}
